{
 "cells": [
  {
   "cell_type": "code",
   "execution_count": 1,
   "id": "e0444b29-2ebe-435d-ab1c-adf66fef7867",
   "metadata": {},
   "outputs": [],
   "source": [
    "# Q.1: What is multithreading ? Why it is used ? Name the module that is used to handle threads in python."
   ]
  },
  {
   "cell_type": "code",
   "execution_count": 2,
   "id": "f38f686d-8b7c-4496-b775-f1cbee173248",
   "metadata": {},
   "outputs": [],
   "source": [
    "# ans. Multithreading refers to concurrently executing multiple threads by rapidly switching the control of the CPU between threads (called context switching).\n",
    "# Python multithreading enables efficient utilization of the resources as the threads share the data space and memory.\n",
    "# It causes a reduction in time consumption or response time, thereby increasing the performance.\n",
    "# The module \"thread\" treats a thread as a function, while the module \"threading\" is implemented in an object oriented way, i.e. every thread corresponds to an object."
   ]
  },
  {
   "cell_type": "code",
   "execution_count": 3,
   "id": "09a4d93a-8494-4fec-84c7-ee778108ab38",
   "metadata": {},
   "outputs": [],
   "source": [
    "#Q.2: hy threading module used? rite the use of the following functions."
   ]
  },
  {
   "cell_type": "code",
   "execution_count": 4,
   "id": "aaf5c598-77ff-40d2-b410-8a08f2e4a69c",
   "metadata": {},
   "outputs": [],
   "source": [
    "# Ans.\n",
    "# activeCount(): Returns the number of thread objects that are active.\n",
    "# currentThread() − Returns the number of thread objects in the caller's thread control.\n",
    "# enumerate() − Returns a list of all thread objects that are currently active."
   ]
  },
  {
   "cell_type": "code",
   "execution_count": 5,
   "id": "8c3942f2-81ba-4050-ab70-ca058c4f1a5e",
   "metadata": {},
   "outputs": [],
   "source": [
    "# Q.3: Explain the following functions."
   ]
  },
  {
   "cell_type": "code",
   "execution_count": 6,
   "id": "f037e696-7997-4107-98a1-cce7731da655",
   "metadata": {},
   "outputs": [],
   "source": [
    "# Ans.\n",
    "#The . run() method executes any target function belonging to a given thread object that is now active.\n",
    "# start() method is an inbuilt method of the Thread class of the threading module, it is used to start a thread's activity. \n",
    "# The join() method provides a way for one process to block until another process has finished.\n",
    "# The . is_alive() method returns True if the thread is still running and False , otherwise."
   ]
  },
  {
   "cell_type": "code",
   "execution_count": 7,
   "id": "58debb10-0184-4633-9cbe-fad7f8100d4b",
   "metadata": {},
   "outputs": [],
   "source": [
    "# Q.4: Write a python program to create two threads. Thread one must print the list of squares and thread\n",
    "#two must print the list of cubes."
   ]
  },
  {
   "cell_type": "code",
   "execution_count": 12,
   "id": "e6a42de1-20d3-4b41-aa72-afacc7b1eb7d",
   "metadata": {},
   "outputs": [
    {
     "name": "stdout",
     "output_type": "stream",
     "text": [
      "The square of the list:\n",
      "The cube of the list:\n",
      "Squares are: 1\n",
      "Cubes are: 1\n",
      "Squares are: 4\n",
      "Cubes are: 8\n",
      "Squares are: 9\n",
      "Cubes are: 27\n",
      "Squares are: 16\n",
      "Cubes are: 64\n",
      "Squares are: 25\n",
      "Cubes are: 125\n",
      "Squares are: 36\n",
      "Cubes are: 216\n",
      "Squares are: 49\n",
      "Cubes are: 343\n",
      "Squares are: 64\n",
      "Cubes are: 512\n",
      "Squares are: 81\n",
      "Cubes are: 729\n",
      "Total time taken by the threads 2.7052764892578125\n",
      "Again executing the thread\n",
      "Thread 1 and thread 2 have finished their execution\n"
     ]
    }
   ],
   "source": [
    "import threading\n",
    "import time\n",
    "def square(n): # define a square calculating function  \n",
    "    print(\"The square of the list:\")\n",
    "    for i in n:\n",
    "        time.sleep(0.3) # at each iteration it waits for 0.3 time \n",
    "        print(\"Squares are:\", i*i)\n",
    "def cube(n): # define a cube calculating function  \n",
    "    print(\"The cube of the list:\")\n",
    "    for i in n:\n",
    "        time.sleep(0.3) # at each iteration it waits for 0.3 time  \n",
    "        print(\"Cubes are:\", i*i*i)\n",
    "arr = [1,2,3,4,5,6,7,8,9]\n",
    "t = time.time()\n",
    "#cube(ar)  \n",
    "#sqre(ar)  \n",
    "th1 = threading.Thread(target = square, args = (arr,)) \n",
    "th2 = threading.Thread(target = cube, args = (arr,))\n",
    "th1.start()\n",
    "th2.start()\n",
    "th1.join()\n",
    "th2.join()\n",
    "print(\"Total time taken by the threads\", time.time()-t) # print the total time  \n",
    "print(\"Again executing the thread\")\n",
    "print(\"Thread 1 and thread 2 have finished their execution\")\n",
    "\n",
    "        \n",
    "        \n"
   ]
  },
  {
   "cell_type": "code",
   "execution_count": 14,
   "id": "cdbd5256-3091-4e61-a3af-6457f2bf9eb5",
   "metadata": {},
   "outputs": [],
   "source": [
    "# 5. State advantages and disadvantages of multithreading."
   ]
  },
  {
   "cell_type": "code",
   "execution_count": 15,
   "id": "94874ca8-606c-445f-924a-6bbf4ff80959",
   "metadata": {},
   "outputs": [],
   "source": [
    "#This model provides more concurrency than the many-to-one model.\n",
    "#It also allows another thread to run when a thread makes a blocking system call.\n",
    "#It supports multiple threads to execute in parallel on microprocessors.\n",
    "#Disadvantage of this model is that creating user thread requires the corresponding Kernel thread."
   ]
  },
  {
   "cell_type": "code",
   "execution_count": 17,
   "id": "7fef4583-bd0b-4e69-823c-7d70009e918f",
   "metadata": {},
   "outputs": [],
   "source": [
    "# 6. Explain deadlocks and race conditions."
   ]
  },
  {
   "cell_type": "code",
   "execution_count": null,
   "id": "3c9cfc57-967b-4d66-a0c6-5be083888d22",
   "metadata": {},
   "outputs": [],
   "source": [
    "# Ans. A race condition occurs when two threads use the same variable at a given time. Deadlock exists when two threads seek one lock simultaneously. This situation will stop both threads from processing or executing the functions."
   ]
  }
 ],
 "metadata": {
  "kernelspec": {
   "display_name": "Python 3 (ipykernel)",
   "language": "python",
   "name": "python3"
  },
  "language_info": {
   "codemirror_mode": {
    "name": "ipython",
    "version": 3
   },
   "file_extension": ".py",
   "mimetype": "text/x-python",
   "name": "python",
   "nbconvert_exporter": "python",
   "pygments_lexer": "ipython3",
   "version": "3.10.8"
  }
 },
 "nbformat": 4,
 "nbformat_minor": 5
}
